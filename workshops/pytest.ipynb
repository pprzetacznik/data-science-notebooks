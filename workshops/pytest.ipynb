{
 "cells": [
  {
   "cell_type": "markdown",
   "id": "widespread-madagascar",
   "metadata": {},
   "source": [
    "# Running pytest in JupyterLab\n",
    "\n",
    "https://github.com/chmp/ipytest"
   ]
  },
  {
   "cell_type": "code",
   "execution_count": 14,
   "id": "verbal-mystery",
   "metadata": {},
   "outputs": [],
   "source": [
    "import ipytest\n",
    "ipytest.autoconfig()"
   ]
  },
  {
   "cell_type": "code",
   "execution_count": 26,
   "id": "broken-certification",
   "metadata": {},
   "outputs": [
    {
     "name": "stdout",
     "output_type": "stream",
     "text": [
      "test1\n",
      ".\n",
      "1 passed in 0.03s\n"
     ]
    }
   ],
   "source": [
    "%%run_pytest[clean] -s\n",
    "\n",
    "# define the tests\n",
    "\n",
    "def test_my_func():\n",
    "    print(\"test1\")\n",
    "    assert my_func(0) == 0\n",
    "    assert my_func(1) == 0\n",
    "    assert my_func(2) == 2\n",
    "    assert my_func(3) == 2\n",
    "    \n",
    "    \n",
    "def my_func(x):\n",
    "    return x // 2 * 2\n"
   ]
  },
  {
   "cell_type": "code",
   "execution_count": null,
   "id": "fifty-terror",
   "metadata": {},
   "outputs": [],
   "source": []
  }
 ],
 "metadata": {
  "kernelspec": {
   "display_name": "Python 3",
   "language": "python",
   "name": "python3"
  },
  "language_info": {
   "codemirror_mode": {
    "name": "ipython",
    "version": 3
   },
   "file_extension": ".py",
   "mimetype": "text/x-python",
   "name": "python",
   "nbconvert_exporter": "python",
   "pygments_lexer": "ipython3",
   "version": "3.8.2"
  }
 },
 "nbformat": 4,
 "nbformat_minor": 5
}
